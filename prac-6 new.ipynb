{
 "cells": [
  {
   "cell_type": "code",
   "execution_count": 1,
   "metadata": {},
   "outputs": [],
   "source": [
    "import pandas as pd\n",
    "import numpy as np"
   ]
  },
  {
   "cell_type": "code",
   "execution_count": 2,
   "metadata": {},
   "outputs": [
    {
     "data": {
      "text/html": [
       "<div>\n",
       "<style scoped>\n",
       "    .dataframe tbody tr th:only-of-type {\n",
       "        vertical-align: middle;\n",
       "    }\n",
       "\n",
       "    .dataframe tbody tr th {\n",
       "        vertical-align: top;\n",
       "    }\n",
       "\n",
       "    .dataframe thead th {\n",
       "        text-align: right;\n",
       "    }\n",
       "</style>\n",
       "<table border=\"1\" class=\"dataframe\">\n",
       "  <thead>\n",
       "    <tr style=\"text-align: right;\">\n",
       "      <th></th>\n",
       "      <th>date</th>\n",
       "      <th>region</th>\n",
       "      <th>sales</th>\n",
       "      <th>product</th>\n",
       "      <th>value</th>\n",
       "    </tr>\n",
       "  </thead>\n",
       "  <tbody>\n",
       "    <tr>\n",
       "      <th>0</th>\n",
       "      <td>2023-01-01</td>\n",
       "      <td>A</td>\n",
       "      <td>10.0</td>\n",
       "      <td>X</td>\n",
       "      <td>5.0</td>\n",
       "    </tr>\n",
       "    <tr>\n",
       "      <th>1</th>\n",
       "      <td>2023-01-02</td>\n",
       "      <td>B</td>\n",
       "      <td>15.0</td>\n",
       "      <td>Y</td>\n",
       "      <td>12.0</td>\n",
       "    </tr>\n",
       "    <tr>\n",
       "      <th>2</th>\n",
       "      <td>2023-01-03</td>\n",
       "      <td>A</td>\n",
       "      <td>20.0</td>\n",
       "      <td>X</td>\n",
       "      <td>8.0</td>\n",
       "    </tr>\n",
       "    <tr>\n",
       "      <th>3</th>\n",
       "      <td>2023-01-04</td>\n",
       "      <td>B</td>\n",
       "      <td>NaN</td>\n",
       "      <td>Y</td>\n",
       "      <td>22.0</td>\n",
       "    </tr>\n",
       "    <tr>\n",
       "      <th>4</th>\n",
       "      <td>2023-01-05</td>\n",
       "      <td>A</td>\n",
       "      <td>25.0</td>\n",
       "      <td>X</td>\n",
       "      <td>18.0</td>\n",
       "    </tr>\n",
       "    <tr>\n",
       "      <th>5</th>\n",
       "      <td>2023-01-06</td>\n",
       "      <td>B</td>\n",
       "      <td>30.0</td>\n",
       "      <td>Y</td>\n",
       "      <td>NaN</td>\n",
       "    </tr>\n",
       "    <tr>\n",
       "      <th>6</th>\n",
       "      <td>2023-01-07</td>\n",
       "      <td>A</td>\n",
       "      <td>NaN</td>\n",
       "      <td>X</td>\n",
       "      <td>15.0</td>\n",
       "    </tr>\n",
       "    <tr>\n",
       "      <th>7</th>\n",
       "      <td>2023-01-08</td>\n",
       "      <td>A</td>\n",
       "      <td>35.0</td>\n",
       "      <td>Y</td>\n",
       "      <td>30.0</td>\n",
       "    </tr>\n",
       "    <tr>\n",
       "      <th>8</th>\n",
       "      <td>2023-01-09</td>\n",
       "      <td>B</td>\n",
       "      <td>40.0</td>\n",
       "      <td>X</td>\n",
       "      <td>25.0</td>\n",
       "    </tr>\n",
       "    <tr>\n",
       "      <th>9</th>\n",
       "      <td>2023-01-10</td>\n",
       "      <td>A</td>\n",
       "      <td>NaN</td>\n",
       "      <td>Y</td>\n",
       "      <td>NaN</td>\n",
       "    </tr>\n",
       "  </tbody>\n",
       "</table>\n",
       "</div>"
      ],
      "text/plain": [
       "        date region  sales product  value\n",
       "0 2023-01-01      A   10.0       X    5.0\n",
       "1 2023-01-02      B   15.0       Y   12.0\n",
       "2 2023-01-03      A   20.0       X    8.0\n",
       "3 2023-01-04      B    NaN       Y   22.0\n",
       "4 2023-01-05      A   25.0       X   18.0\n",
       "5 2023-01-06      B   30.0       Y    NaN\n",
       "6 2023-01-07      A    NaN       X   15.0\n",
       "7 2023-01-08      A   35.0       Y   30.0\n",
       "8 2023-01-09      B   40.0       X   25.0\n",
       "9 2023-01-10      A    NaN       Y    NaN"
      ]
     },
     "execution_count": 2,
     "metadata": {},
     "output_type": "execute_result"
    }
   ],
   "source": [
    "data = {\n",
    "    'date': pd.date_range('2023-01-01', '2023-01-10'),\n",
    "    'region': ['A', 'B', 'A', 'B', 'A', 'B', 'A', 'A', 'B', 'A'],\n",
    "    'sales': [10, 15, 20, np.nan, 25, 30, np.nan, 35, 40, np.nan],\n",
    "    'product': ['X', 'Y', 'X', 'Y', 'X', 'Y', 'X', 'Y', 'X', 'Y'],\n",
    "    'value': [5, 12, 8, 22, 18, np.nan, 15, 30, 25, np.nan]\n",
    "}\n",
    "df=pd.DataFrame(data)\n",
    "df\n"
   ]
  },
  {
   "cell_type": "code",
   "execution_count": 3,
   "metadata": {},
   "outputs": [
    {
     "name": "stdout",
     "output_type": "stream",
     "text": [
      "Mean Sales by Region:\n",
      "region\n",
      "A    22.500000\n",
      "B    28.333333\n",
      "Name: sales, dtype: float64\n"
     ]
    }
   ],
   "source": [
    "# a. Compute mean of sales grouped by region\n",
    "mean_sales_by_region = df.groupby('region')['sales'].mean()\n",
    "print(\"Mean Sales by Region:\")\n",
    "print(mean_sales_by_region)"
   ]
  },
  {
   "cell_type": "code",
   "execution_count": 5,
   "metadata": {},
   "outputs": [
    {
     "name": "stdout",
     "output_type": "stream",
     "text": [
      "DataFrame after filling missing dates:\n",
      "           region  sales product  value\n",
      "date                                   \n",
      "2023-01-01      A   10.0       X    5.0\n",
      "2023-01-02      B   15.0       Y   12.0\n",
      "2023-01-03      A   20.0       X    8.0\n",
      "2023-01-04      B    NaN       Y   22.0\n",
      "2023-01-05      A   25.0       X   18.0\n",
      "2023-01-06      B   30.0       Y    NaN\n",
      "2023-01-07      A    NaN       X   15.0\n",
      "2023-01-08      A   35.0       Y   30.0\n",
      "2023-01-09      B   40.0       X   25.0\n",
      "2023-01-10      A    NaN       Y    NaN\n"
     ]
    }
   ],
   "source": [
    "# b. Fill intermittent time series to replace missing dates with values of previous non-missing date\n",
    "df = df.set_index('date')\n",
    "df = df.resample('D').ffill()\n",
    "print(\"DataFrame after filling missing dates:\")\n",
    "print(df)"
   ]
  },
  {
   "cell_type": "code",
   "execution_count": 6,
   "metadata": {},
   "outputs": [
    {
     "name": "stdout",
     "output_type": "stream",
     "text": [
      "DataFrame after year-month conversion:\n",
      "           region  sales product  value year_month\n",
      "date                                              \n",
      "2023-01-01      A   10.0       X    5.0    2023-01\n",
      "2023-01-02      B   15.0       Y   12.0    2023-01\n",
      "2023-01-03      A   20.0       X    8.0    2023-01\n",
      "2023-01-04      B    NaN       Y   22.0    2023-01\n",
      "2023-01-05      A   25.0       X   18.0    2023-01\n",
      "2023-01-06      B   30.0       Y    NaN    2023-01\n",
      "2023-01-07      A    NaN       X   15.0    2023-01\n",
      "2023-01-08      A   35.0       Y   30.0    2023-01\n",
      "2023-01-09      B   40.0       X   25.0    2023-01\n",
      "2023-01-10      A    NaN       Y    NaN    2023-01\n"
     ]
    }
   ],
   "source": [
    "# c. Perform year-month string to dates conversion\n",
    "df['year_month'] = pd.to_datetime(df.index).to_period(\"M\")\n",
    "print(\"DataFrame after year-month conversion:\")\n",
    "print(df)"
   ]
  },
  {
   "cell_type": "code",
   "execution_count": 7,
   "metadata": {},
   "outputs": [
    {
     "name": "stdout",
     "output_type": "stream",
     "text": [
      "Sorted and Grouped DataFrame:\n",
      "  region product  sales\n",
      "0      A       X   55.0\n",
      "1      A       Y   35.0\n",
      "3      B       Y   45.0\n",
      "2      B       X   40.0\n"
     ]
    }
   ],
   "source": [
    "# d. Split dataset, group by two columns, and sort aggregated results within groups\n",
    "sorted_grouped_df = df.groupby(['region', 'product']).agg({'sales':'sum'}).reset_index()\n",
    "sorted_grouped_df = sorted_grouped_df.sort_values(by=['region', 'sales'],\n",
    "ascending=[True, False])\n",
    "print(\"Sorted and Grouped DataFrame:\")\n",
    "print(sorted_grouped_df)"
   ]
  },
  {
   "cell_type": "code",
   "execution_count": 8,
   "metadata": {},
   "outputs": [
    {
     "name": "stdout",
     "output_type": "stream",
     "text": [
      "Bin Counts:\n",
      "bin\n",
      "(0, 10]     2\n",
      "(10, 20]    3\n",
      "(20, 30]    3\n",
      "(30, 40]    0\n",
      "(40, 50]    0\n",
      "dtype: int64\n"
     ]
    }
   ],
   "source": [
    "# e. Split dataframe into groups with bin counts\n",
    "bins = [0, 10, 20, 30, 40, 50]\n",
    "df['bin'] = pd.cut(df['value'], bins=bins)\n",
    "grouped_by_bin = df.groupby('bin').size()\n",
    "print(\"Bin Counts:\")\n",
    "print(grouped_by_bin)"
   ]
  }
 ],
 "metadata": {
  "kernelspec": {
   "display_name": "base",
   "language": "python",
   "name": "python3"
  },
  "language_info": {
   "codemirror_mode": {
    "name": "ipython",
    "version": 3
   },
   "file_extension": ".py",
   "mimetype": "text/x-python",
   "name": "python",
   "nbconvert_exporter": "python",
   "pygments_lexer": "ipython3",
   "version": "3.9.12"
  }
 },
 "nbformat": 4,
 "nbformat_minor": 2
}
